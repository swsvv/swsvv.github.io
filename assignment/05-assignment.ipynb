{
 "cells": [
  {
   "cell_type": "markdown",
   "id": "3c9f0a1b",
   "metadata": {},
   "source": [
    "# 🐶 반복문 연습"
   ]
  },
  {
   "cell_type": "markdown",
   "id": "7ad2f8bf",
   "metadata": {},
   "source": [
    "## 1. 슬라이드의 while practice2,3을 풀어보자"
   ]
  },
  {
   "cell_type": "markdown",
   "id": "2b1a31a6",
   "metadata": {},
   "source": [
    "### while practice2\n",
    "* 아래 코드에서 주석 (#표시) 처리 된 곳에 적당한 코드를 쓰면 아래와 같은 결과가 나온다\n",
    "* 주석처리 된 곳에 적당한 코드를 써서 동일한 결과를 얻어보자"
   ]
  },
  {
   "cell_type": "code",
   "execution_count": 12,
   "id": "1fb86c93",
   "metadata": {},
   "outputs": [
    {
     "name": "stdout",
     "output_type": "stream",
     "text": [
      "1~1000 사이 3의 배수의 합 =  166833\n"
     ]
    }
   ],
   "source": [
    "i = 1\n",
    "summation = 0\n",
    "\n",
    "# 여기에 적당한 while문을 써보자\n",
    "    if i % 3 == 0:\n",
    "        summation += i\n",
    "    i += 1\n",
    "print(\"1~1000 사이 3의 배수의 합 = \", summation)"
   ]
  },
  {
   "cell_type": "markdown",
   "id": "0aa00944",
   "metadata": {},
   "source": [
    "### while practice3\n",
    "* 반복문 1개만 사용하여 풀어보자\n",
    "* 반복문과 문자열 연산을 사용해서 풀 수 있다"
   ]
  },
  {
   "cell_type": "code",
   "execution_count": 16,
   "id": "551cf479",
   "metadata": {},
   "outputs": [
    {
     "name": "stdout",
     "output_type": "stream",
     "text": [
      "*\n",
      "**\n",
      "***\n",
      "****\n",
      "*****\n"
     ]
    }
   ],
   "source": [
    "i = 1\n",
    "# 적당한 while 반복문을 써보자\n",
    "    # *를 출력하는데 문자열 연산을 사용하여 출력해보자\n",
    "    i += 1"
   ]
  },
  {
   "cell_type": "markdown",
   "id": "65d9c065",
   "metadata": {},
   "source": [
    "## 2. 슬라이드의 for practice 1~3을 풀어보자"
   ]
  },
  {
   "cell_type": "markdown",
   "id": "ce605071",
   "metadata": {},
   "source": [
    "* for practice1\n",
    "    * 아래 코드에서 주석 (# 표시) 처리 된 곳에 적당한 코드를 쓰면 밑에와 같은 결과가 나온다\n",
    "    * 주석처리 된 곳을 적당히 채워서 결과를 내보자"
   ]
  },
  {
   "cell_type": "code",
   "execution_count": 3,
   "id": "81fd06dc",
   "metadata": {
    "scrolled": true
   },
   "outputs": [
    {
     "name": "stdout",
     "output_type": "stream",
     "text": [
      "1\n",
      "2\n",
      "3\n",
      "4\n",
      "5\n",
      "6\n",
      "7\n",
      "8\n",
      "9\n",
      "10\n",
      "11\n",
      "12\n",
      "13\n",
      "14\n",
      "15\n",
      "16\n",
      "17\n",
      "18\n",
      "19\n",
      "20\n",
      "21\n",
      "22\n",
      "23\n",
      "24\n",
      "25\n",
      "26\n",
      "27\n",
      "28\n",
      "29\n",
      "30\n",
      "31\n",
      "32\n",
      "33\n",
      "34\n",
      "35\n",
      "36\n",
      "37\n",
      "38\n",
      "39\n",
      "40\n",
      "41\n",
      "42\n",
      "43\n",
      "44\n",
      "45\n",
      "46\n",
      "47\n",
      "48\n",
      "49\n",
      "50\n",
      "51\n",
      "52\n",
      "53\n",
      "54\n",
      "55\n",
      "56\n",
      "57\n",
      "58\n",
      "59\n",
      "60\n",
      "61\n",
      "62\n",
      "63\n",
      "64\n",
      "65\n",
      "66\n",
      "67\n",
      "68\n",
      "69\n",
      "70\n",
      "71\n",
      "72\n",
      "73\n",
      "74\n",
      "75\n",
      "76\n",
      "77\n",
      "78\n",
      "79\n",
      "80\n",
      "81\n",
      "82\n",
      "83\n",
      "84\n",
      "85\n",
      "86\n",
      "87\n",
      "88\n",
      "89\n",
      "90\n",
      "91\n",
      "92\n",
      "93\n",
      "94\n",
      "95\n",
      "96\n",
      "97\n",
      "98\n",
      "99\n"
     ]
    }
   ],
   "source": [
    "for i in range(1, 100):\n",
    "    # 여기를 채워보시오 (한 줄만 쓰면 됨)"
   ]
  },
  {
   "cell_type": "markdown",
   "id": "cff400ec",
   "metadata": {},
   "source": [
    "* for practice2\n",
    "    * 아래 코드에서 주석처리 된 부분에 적당한 코드를 작성하면 문제를 풀 수 있다"
   ]
  },
  {
   "cell_type": "code",
   "execution_count": 5,
   "id": "61a32a17",
   "metadata": {},
   "outputs": [
    {
     "name": "stdout",
     "output_type": "stream",
     "text": [
      "79.0\n"
     ]
    }
   ],
   "source": [
    "students = [70, 60, 55, 75, 95, 90, 80, 80, 85, 100]\n",
    "summation = 0\n",
    "\n",
    "for i in range(len(students)):\n",
    "# 여기에는 반복할 내용을 써보시오\n",
    "    \n",
    "average = summation / len(students)\n",
    "\n",
    "print(average)"
   ]
  },
  {
   "cell_type": "markdown",
   "id": "11452c0e",
   "metadata": {},
   "source": [
    "* for practice3\n",
    "    * while practice3과 유사한 방식으로 풀면됨\n",
    "    * 별이 5개부터 출력되므로 이것을 어떻게 해결할지 생각해보자"
   ]
  },
  {
   "cell_type": "code",
   "execution_count": 8,
   "id": "1858ac5c",
   "metadata": {},
   "outputs": [
    {
     "name": "stdout",
     "output_type": "stream",
     "text": [
      "*****\n",
      "****\n",
      "***\n",
      "**\n",
      "*\n"
     ]
    }
   ],
   "source": [
    "for i in range(5):\n",
    "# 여기에 적당한 코드를 써보자 (hint: 5 - 0 = 5, 5 - 1 = 4, 5 - 2 =3, ... )"
   ]
  },
  {
   "cell_type": "markdown",
   "id": "c11ad037",
   "metadata": {},
   "source": [
    "## 3. 응용 (선택사항)"
   ]
  },
  {
   "cell_type": "markdown",
   "id": "454f714d",
   "metadata": {},
   "source": [
    "### 구구단 출력\n",
    "* 아래와 같이 숫자를 입력받으면 해당 숫자의 구구단을 출력해보자\n",
    "* 'exit'가 입력되기 전까지 계속해서 반복하게 만들어보자 (구구단 출력하고 다시 숫자를 입력받는 단계로 돌아간다)\n",
    "* 'exit'가 입력되면 프로그램이 종료되게 해보자"
   ]
  },
  {
   "cell_type": "code",
   "execution_count": 19,
   "id": "2d70170a",
   "metadata": {},
   "outputs": [
    {
     "name": "stdout",
     "output_type": "stream",
     "text": [
      "어떤 숫자의 구구단을 출력할까요? : 3\n",
      "3\n",
      "6\n",
      "9\n",
      "12\n",
      "15\n",
      "18\n",
      "21\n",
      "24\n",
      "27\n",
      "어떤 숫자의 구구단을 출력할까요? : exit\n"
     ]
    }
   ],
   "source": [
    "# 이거는 처음부터 작성해보자"
   ]
  },
  {
   "cell_type": "code",
   "execution_count": null,
   "id": "ac4f0041",
   "metadata": {},
   "outputs": [],
   "source": []
  }
 ],
 "metadata": {
  "kernelspec": {
   "display_name": "Python 3",
   "language": "python",
   "name": "python3"
  },
  "language_info": {
   "codemirror_mode": {
    "name": "ipython",
    "version": 3
   },
   "file_extension": ".py",
   "mimetype": "text/x-python",
   "name": "python",
   "nbconvert_exporter": "python",
   "pygments_lexer": "ipython3",
   "version": "3.6.6"
  }
 },
 "nbformat": 4,
 "nbformat_minor": 5
}
